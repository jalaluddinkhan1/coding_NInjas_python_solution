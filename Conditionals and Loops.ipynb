{
 "cells": [
  {
   "cell_type": "markdown",
   "id": "a7371f8a",
   "metadata": {},
   "source": [
    "# Check number\n",
    "Given an integer n, find if n is positive, negative or 0.\n",
    "If n is positive, print \"Positive\"\n",
    "If n is negative, print \"Negative\"\n",
    "And if n is equal to 0, print \"Zero\"."
   ]
  },
  {
   "cell_type": "code",
   "execution_count": 9,
   "id": "f60e5f04",
   "metadata": {},
   "outputs": [
    {
     "name": "stdout",
     "output_type": "stream",
     "text": [
      "0\n",
      "Zero\n"
     ]
    }
   ],
   "source": [
    "n=int(input())\n",
    "if n>0:\n",
    "    print(\"Positive\")\n",
    "elif n<0:\n",
    "    print(\"Negative\")\n",
    "else:\n",
    "    print(\"Zero\")"
   ]
  },
  {
   "cell_type": "markdown",
   "id": "33e3e289",
   "metadata": {},
   "source": [
    "# Sum of n numbers\n",
    "Given an integer n, find and print the sum of numbers from 1 to n."
   ]
  },
  {
   "cell_type": "code",
   "execution_count": 11,
   "id": "e05020cd",
   "metadata": {},
   "outputs": [
    {
     "name": "stdout",
     "output_type": "stream",
     "text": [
      "4\n",
      "10\n"
     ]
    }
   ],
   "source": [
    "n=int(input())\n",
    "sum=0\n",
    "for i in range(1,n+1):\n",
    "    sum=sum+i\n",
    "print(sum)"
   ]
  },
  {
   "cell_type": "markdown",
   "id": "cc1381e9",
   "metadata": {},
   "source": [
    "# Sum of even n numbers\n",
    "Given a number N, print sum of all even numbers from 1 to N."
   ]
  },
  {
   "cell_type": "code",
   "execution_count": 14,
   "id": "3e50488a",
   "metadata": {},
   "outputs": [
    {
     "name": "stdout",
     "output_type": "stream",
     "text": [
      "7\n",
      "12\n"
     ]
    }
   ],
   "source": [
    "n=int(input())\n",
    "sum=0\n",
    "for i in range(2,n+1,2):\n",
    "    sum=sum+i\n",
    "print(sum)\n",
    "    "
   ]
  },
  {
   "cell_type": "markdown",
   "id": "12cd055e",
   "metadata": {},
   "source": [
    "# Fahrenheit to Celsius\n",
    "Given three values - Start Fahrenheit Value (S), End Fahrenheit value (E) and Step Size (W), you need to convert all Fahrenheit values from Start to End at the gap of W, into their corresponding Celsius values and print the table."
   ]
  },
  {
   "cell_type": "code",
   "execution_count": 15,
   "id": "e23482d6",
   "metadata": {},
   "outputs": [
    {
     "name": "stdout",
     "output_type": "stream",
     "text": [
      "5\n",
      "8\n",
      "6\n",
      "5 -15\n"
     ]
    }
   ],
   "source": [
    "s=int(input())\n",
    "e=int(input())\n",
    "w=int(input())\n",
    "while True:\n",
    "    c=0\n",
    "    if s<=e:\n",
    "        c=(s-32)*5/9\n",
    "        print(s,int(c))\n",
    "        s = s + w\n",
    "\n",
    "    else:\n",
    "        break"
   ]
  },
  {
   "cell_type": "markdown",
   "id": "c4a0ab0d",
   "metadata": {},
   "source": [
    "# Calculator\n",
    "Write a program that performs the tasks of a simple calculator. The program should first take an integer as input and then based on that integer perform the task as given below.\n",
    "1. If the input is 1, then 2 integers are taken from the user and their sum is printed.\n",
    "2. If the input is 2, then 2 integers are taken from the user and their difference(1st number - 2nd number) is printed.\n",
    "3. If the input is 3, then 2 integers are taken from the user and their product is printed.\n",
    "4. If the input is 4, then 2 integers are taken from the user and the quotient obtained (on dividing 1st number by 2nd number) is printed.\n",
    "5. If the input is 5, then 2 integers are taken from the user and their remainder(1st number mod 2nd number) is printed.\n",
    "6. If the input is 6, then the program exits.\n",
    "7. For any other input, then print \"Invalid Operation\"."
   ]
  },
  {
   "cell_type": "code",
   "execution_count": null,
   "id": "3d2ecd1c",
   "metadata": {},
   "outputs": [],
   "source": [
    "while True:\n",
    "    choice = int(input())\n",
    "    if (choice>=1 and choice<=5):\n",
    "        num1 = int(input())\n",
    "        num2 = int(input())\n",
    "        if choice == 1: \n",
    "            res = num1 + num2\n",
    "            print(res)\n",
    "        elif choice == 2: \n",
    "            res = num1 - num2\n",
    "            print(res)\n",
    "        elif choice == 3: \n",
    "            res = num1 * num2\n",
    "            print(res)\n",
    "        elif choice == 4: \n",
    "            res = num1 // num2\n",
    "            print(res)\n",
    "        elif choice == 5:\n",
    "            res = num1 % num2\n",
    "            print(res)\n",
    "    elif choice == 6:\n",
    "        exit()\n",
    "    else:\n",
    "        print(\"Invalid Operation\")"
   ]
  },
  {
   "cell_type": "markdown",
   "id": "b7ef676a",
   "metadata": {},
   "source": [
    "# Reverse of a number\n",
    "Write a program to generate the reverse of a given number N. Print the corresponding reverse number.\n",
    "Note : If a number has trailing zeros, then its reverse will not include them. For e.g., reverse of 10400 will be 401 instead of 00401.\n"
   ]
  },
  {
   "cell_type": "code",
   "execution_count": 16,
   "id": "0db13dfe",
   "metadata": {},
   "outputs": [
    {
     "name": "stdout",
     "output_type": "stream",
     "text": [
      "123\n",
      "321\n"
     ]
    }
   ],
   "source": [
    "n=int(input())\n",
    "rev=0\n",
    "while n>0:\n",
    "    rem=n%10\n",
    "    rev=rev*10+rem\n",
    "    n=n//10\n",
    "print(rev)"
   ]
  },
  {
   "cell_type": "markdown",
   "id": "64862ce7",
   "metadata": {},
   "source": [
    "# Palindrome number\n",
    "Palindrome are the numbers for which reverse is exactly same as the original one. For eg. 121"
   ]
  },
  {
   "cell_type": "code",
   "execution_count": 29,
   "id": "50a3e675",
   "metadata": {},
   "outputs": [
    {
     "name": "stdout",
     "output_type": "stream",
     "text": [
      "566\n",
      "false\n"
     ]
    }
   ],
   "source": [
    "n=int(input())\n",
    "dm=n\n",
    "rev=0\n",
    "while n>0:\n",
    "    rem=n%10\n",
    "    rev=rev*10+rem\n",
    "    n=n//10\n",
    "if dm==rev:\n",
    "    print(\"true\")\n",
    "else:\n",
    "    print(\"false\")"
   ]
  },
  {
   "cell_type": "markdown",
   "id": "fc0181f4",
   "metadata": {},
   "source": [
    "# Sum of even & odd\n",
    "Write a program to input an integer N and print the sum of all its even digits and sum of all its odd digits separately.\n",
    "Digits mean numbers, not the places! That is, if the given integer is \"13245\", even digits are 2 & 4 and odd digits are 1, 3 & 5."
   ]
  },
  {
   "cell_type": "code",
   "execution_count": 19,
   "id": "2fd42dfe",
   "metadata": {},
   "outputs": [
    {
     "name": "stdout",
     "output_type": "stream",
     "text": [
      "1234\n",
      "6\n",
      "4\n"
     ]
    }
   ],
   "source": [
    "n=int(input())\n",
    "even_sum=0\n",
    "odd_sum=0\n",
    "while n>0:\n",
    "    rem=n%10\n",
    "    if rem%2==0:\n",
    "        even_sum+=rem\n",
    "    else:\n",
    "        odd_sum+=rem\n",
    "    n=n//10\n",
    "print(even_sum)\n",
    "print(odd_sum)\n"
   ]
  },
  {
   "cell_type": "markdown",
   "id": "98aa95cb",
   "metadata": {},
   "source": [
    "# Nth Fibonacci Number\n",
    "Nth term of Fibonacci series F(n), where F(n) is a function, is calculated using the following formula -"
   ]
  },
  {
   "cell_type": "code",
   "execution_count": 26,
   "id": "fb100693",
   "metadata": {},
   "outputs": [
    {
     "name": "stdout",
     "output_type": "stream",
     "text": [
      "4\n",
      "3\n"
     ]
    }
   ],
   "source": [
    "n=int(input())\n",
    "a=0\n",
    "b=1\n",
    "for i in range(n):\n",
    "    c=b\n",
    "    b=a+b\n",
    "    a=c\n",
    "print(a)"
   ]
  },
  {
   "cell_type": "code",
   "execution_count": null,
   "id": "220e2d04",
   "metadata": {},
   "outputs": [],
   "source": []
  }
 ],
 "metadata": {
  "kernelspec": {
   "display_name": "Python 3 (ipykernel)",
   "language": "python",
   "name": "python3"
  },
  "language_info": {
   "codemirror_mode": {
    "name": "ipython",
    "version": 3
   },
   "file_extension": ".py",
   "mimetype": "text/x-python",
   "name": "python",
   "nbconvert_exporter": "python",
   "pygments_lexer": "ipython3",
   "version": "3.9.7"
  }
 },
 "nbformat": 4,
 "nbformat_minor": 5
}
