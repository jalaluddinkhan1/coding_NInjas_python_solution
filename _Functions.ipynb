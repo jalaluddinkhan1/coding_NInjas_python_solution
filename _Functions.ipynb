{
 "cells": [
  {
   "cell_type": "markdown",
   "id": "f4a8243f",
   "metadata": {},
   "source": [
    "# Fahrenheit to Celsius Function"
   ]
  },
  {
   "cell_type": "markdown",
   "id": "16b39c6f",
   "metadata": {},
   "source": [
    "#Given three values - Start Fahrenheit Value (S), End Fahrenheit value (E) and Step Size (W), you need to convert all Fahrenheit values from Start to End at the gap of W, into their corresponding Celsius values and print the table."
   ]
  },
  {
   "cell_type": "code",
   "execution_count": 6,
   "id": "64afc5b2",
   "metadata": {},
   "outputs": [
    {
     "name": "stdout",
     "output_type": "stream",
     "text": [
      "1\n",
      "10\n",
      "2\n",
      "1 -17\n",
      "3 -16\n",
      "5 -15\n",
      "7 -13\n",
      "9 -12\n"
     ]
    }
   ],
   "source": [
    "def FahrenheitToCelsius(Start,End,Step):\n",
    "    for i in range(Start,End+1,Step):\n",
    "        Fahrenheit= (((i - 32) * 5) / 9)\n",
    "        print(i,int(Fahrenheit))\n",
    "\n",
    "Start=int(input())\n",
    "End=int(input())\n",
    "Step_size=int(input())\n",
    "FahrenheitToCelsius(Start,End,Step_size)"
   ]
  },
  {
   "cell_type": "markdown",
   "id": "19f35a35",
   "metadata": {},
   "source": [
    "# Fibonacci Member"
   ]
  },
  {
   "cell_type": "markdown",
   "id": "940f70a1",
   "metadata": {},
   "source": [
    "#Given a number N, figure out if it is a member of fibonacci series or not. Return true if the number is member of fibonacci series else false."
   ]
  },
  {
   "cell_type": "code",
   "execution_count": 14,
   "id": "9bfee0cb",
   "metadata": {},
   "outputs": [
    {
     "name": "stdout",
     "output_type": "stream",
     "text": [
      "5\n",
      "true\n"
     ]
    }
   ],
   "source": [
    "def isFibonacci(num):\n",
    "   \n",
    "    a,b,c=0,1,0\n",
    "    for i in range(1,num*2):\n",
    "        if num==a:\n",
    "            return True\n",
    "        c=b\n",
    "        b= c+a\n",
    "        a=c\n",
    "num=int(input())\n",
    "if isFibonacci(num) ==True:\n",
    "    print(\"true\")\n",
    "else:\n",
    "    print(\"false\")"
   ]
  },
  {
   "cell_type": "code",
   "execution_count": 13,
   "id": "d24c4edb",
   "metadata": {},
   "outputs": [],
   "source": [
    "#type 2"
   ]
  },
  {
   "cell_type": "code",
   "execution_count": 15,
   "id": "b61b7f76",
   "metadata": {},
   "outputs": [
    {
     "name": "stdout",
     "output_type": "stream",
     "text": [
      "5\n",
      "true\n"
     ]
    }
   ],
   "source": [
    "import math \n",
    "def isPerfectSquare(x): \n",
    "    s = int(math.sqrt(x)) \n",
    "    return s*s == x \n",
    "def isFibonacci(n): \n",
    "    return isPerfectSquare(5*n*n + 4) or isPerfectSquare(5*n*n - 4)\n",
    "\n",
    "n=int(input())\n",
    "if (isFibonacci(n)==True):\n",
    "    print(\"true\")\n",
    "else:\n",
    "    print(\"false\")"
   ]
  },
  {
   "cell_type": "markdown",
   "id": "9462bdb0",
   "metadata": {},
   "source": [
    "# Palindrome number"
   ]
  },
  {
   "cell_type": "markdown",
   "id": "ef5c2275",
   "metadata": {},
   "source": [
    "#Write a program to determine if given number is palindrome or not. Print true if it is palindrome, false otherwise."
   ]
  },
  {
   "cell_type": "code",
   "execution_count": 30,
   "id": "eab1ae66",
   "metadata": {},
   "outputs": [
    {
     "name": "stdout",
     "output_type": "stream",
     "text": [
      "5\n",
      "true\n"
     ]
    }
   ],
   "source": [
    "def isPalindrom(num):\n",
    "    temp=num\n",
    "    rem=0\n",
    "    while num>0:\n",
    "        ext=num%10\n",
    "        rem=rem*10 + ext\n",
    "        num=num//10\n",
    "    if rem==temp:\n",
    "        return True\n",
    "    else:\n",
    "        return False\n",
    "num=int(input())\n",
    "if isPalindrom(num)== True:\n",
    "    print('true')\n",
    "else:\n",
    "    print('false')"
   ]
  },
  {
   "cell_type": "markdown",
   "id": "04b9448f",
   "metadata": {},
   "source": [
    "# Check Armstrong"
   ]
  },
  {
   "cell_type": "markdown",
   "id": "2081a393",
   "metadata": {},
   "source": [
    "#Write a Program to determine if the given number is Armstrong number or not. Print true if number is armstrong, otherwise print false."
   ]
  },
  {
   "cell_type": "code",
   "execution_count": 10,
   "id": "11abb228",
   "metadata": {},
   "outputs": [
    {
     "name": "stdout",
     "output_type": "stream",
     "text": [
      "154\n",
      "false\n"
     ]
    }
   ],
   "source": [
    "def isArmstrong(num):\n",
    "    sz=len(str(num))\n",
    "    temp=num\n",
    "    Armstrong=0\n",
    "    while num>0:\n",
    "        ext=num%10\n",
    "        Armstrong=Armstrong+(ext**sz)\n",
    "        num=num//10\n",
    "    if temp==Armstrong:\n",
    "        return True\n",
    "    else:\n",
    "        return False\n",
    "num=int(input())\n",
    "if isArmstrong(num)==True:\n",
    "    print('true')\n",
    "else:\n",
    "    print('false')"
   ]
  },
  {
   "cell_type": "code",
   "execution_count": null,
   "id": "b0f803d5",
   "metadata": {},
   "outputs": [],
   "source": [
    "\n"
   ]
  },
  {
   "cell_type": "code",
   "execution_count": null,
   "id": "b33c7cf7",
   "metadata": {},
   "outputs": [],
   "source": []
  }
 ],
 "metadata": {
  "kernelspec": {
   "display_name": "Python 3 (ipykernel)",
   "language": "python",
   "name": "python3"
  },
  "language_info": {
   "codemirror_mode": {
    "name": "ipython",
    "version": 3
   },
   "file_extension": ".py",
   "mimetype": "text/x-python",
   "name": "python",
   "nbconvert_exporter": "python",
   "pygments_lexer": "ipython3",
   "version": "3.9.7"
  }
 },
 "nbformat": 4,
 "nbformat_minor": 5
}
