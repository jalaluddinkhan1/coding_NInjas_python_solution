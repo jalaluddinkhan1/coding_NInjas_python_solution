{
 "cells": [
  {
   "cell_type": "markdown",
   "id": "f3c65308",
   "metadata": {},
   "source": [
    "# Square Pattern\n"
   ]
  },
  {
   "cell_type": "code",
   "execution_count": 2,
   "id": "c0da3775",
   "metadata": {},
   "outputs": [
    {
     "name": "stdout",
     "output_type": "stream",
     "text": [
      "4\n",
      "4444\n",
      "4444\n",
      "4444\n",
      "4444\n"
     ]
    }
   ],
   "source": [
    "n=int(input())\n",
    "for i in range(n):\n",
    "    for j in range(n):\n",
    "        print(n,end='')\n",
    "    print()"
   ]
  },
  {
   "cell_type": "code",
   "execution_count": 3,
   "id": "679f549a",
   "metadata": {},
   "outputs": [
    {
     "name": "stdout",
     "output_type": "stream",
     "text": [
      "4\n",
      "4444\n",
      "4444\n",
      "4444\n",
      "4444\n"
     ]
    }
   ],
   "source": [
    "n=int(input())\n",
    "row=1\n",
    "while n>=row:\n",
    "    col=1\n",
    "    while n>=col:\n",
    "        print(n,end='')\n",
    "        col=col+1\n",
    "    print()\n",
    "    row=row+1"
   ]
  },
  {
   "cell_type": "markdown",
   "id": "901e6342",
   "metadata": {},
   "source": [
    "# Triangular Star Pattern"
   ]
  },
  {
   "cell_type": "code",
   "execution_count": 5,
   "id": "860739c9",
   "metadata": {},
   "outputs": [
    {
     "name": "stdout",
     "output_type": "stream",
     "text": [
      "4\n",
      "*\n",
      "**\n",
      "***\n",
      "****\n"
     ]
    }
   ],
   "source": [
    "n=int(input())\n",
    "for i in range(1,n+1):\n",
    "    for j in range(i):\n",
    "        print('*',end='')\n",
    "    print()"
   ]
  },
  {
   "cell_type": "markdown",
   "id": "200433b0",
   "metadata": {},
   "source": [
    "# Triangle Number Pattern\n",
    "\n"
   ]
  },
  {
   "cell_type": "code",
   "execution_count": 6,
   "id": "697d551d",
   "metadata": {},
   "outputs": [
    {
     "name": "stdout",
     "output_type": "stream",
     "text": [
      "4\n",
      "1\n",
      "22\n",
      "333\n",
      "4444\n"
     ]
    }
   ],
   "source": [
    "n=int(input())\n",
    "for i in range(1,n+1):\n",
    "    for j in range(i):\n",
    "        print(i,end='')\n",
    "    print()"
   ]
  },
  {
   "cell_type": "markdown",
   "id": "9beb42a6",
   "metadata": {},
   "source": [
    "# Reverse Number Pattern\n"
   ]
  },
  {
   "cell_type": "code",
   "execution_count": 12,
   "id": "9aa446be",
   "metadata": {},
   "outputs": [
    {
     "name": "stdout",
     "output_type": "stream",
     "text": [
      "4\n",
      "1\n",
      "21\n",
      "321\n",
      "4321\n"
     ]
    }
   ],
   "source": [
    "n=int(input())\n",
    "for i in range(1,n+1):\n",
    "    for j in range(1,i+1):\n",
    "        print(i-j+1,end='')\n",
    "    print()"
   ]
  },
  {
   "cell_type": "markdown",
   "id": "1f71d2d6",
   "metadata": {},
   "source": [
    "# Character Pattern\n"
   ]
  },
  {
   "cell_type": "code",
   "execution_count": 19,
   "id": "7537bfce",
   "metadata": {},
   "outputs": [
    {
     "name": "stdout",
     "output_type": "stream",
     "text": [
      "4\n",
      "A\n",
      "BC\n",
      "CDE\n",
      "DEFG\n"
     ]
    }
   ],
   "source": [
    "n=int(input())\n",
    "for i in range(n):\n",
    "    con=ord('A')+i\n",
    "    for j in range(i+1):\n",
    "        print(chr(con),end='')\n",
    "        con=con+1\n",
    "    print()"
   ]
  },
  {
   "cell_type": "markdown",
   "id": "47528db4",
   "metadata": {},
   "source": [
    "# Interesting Alphabets\n"
   ]
  },
  {
   "cell_type": "code",
   "execution_count": 22,
   "id": "6c16942e",
   "metadata": {},
   "outputs": [
    {
     "name": "stdout",
     "output_type": "stream",
     "text": [
      "5\n",
      "E\n",
      "DE\n",
      "CDE\n",
      "BCDE\n",
      "ABCDE\n"
     ]
    }
   ],
   "source": [
    "n=int(input())\n",
    "x=n\n",
    "for i in range(n):\n",
    "    con=ord('A')+x-1\n",
    "    for j in range(i+1):\n",
    "        print(chr(con),end='')\n",
    "        con=con+1\n",
    "    x=x-1\n",
    "    print()"
   ]
  },
  {
   "cell_type": "markdown",
   "id": "49f9ad6f",
   "metadata": {},
   "source": [
    "# Assignment"
   ]
  },
  {
   "cell_type": "code",
   "execution_count": null,
   "id": "23b4f3d7",
   "metadata": {},
   "outputs": [],
   "source": []
  },
  {
   "cell_type": "markdown",
   "id": "08e1dc7c",
   "metadata": {},
   "source": [
    "# Number Pattern 1\n",
    "1\n",
    "11\n",
    "111\n",
    "1111"
   ]
  },
  {
   "cell_type": "code",
   "execution_count": 3,
   "id": "09cdcf31",
   "metadata": {},
   "outputs": [
    {
     "name": "stdout",
     "output_type": "stream",
     "text": [
      "4\n",
      "1\n",
      "11\n",
      "111\n",
      "1111\n"
     ]
    }
   ],
   "source": [
    "n=int(input())\n",
    "for i in range(n):\n",
    "    for j in range(i+1):\n",
    "        print(1,end='')\n",
    "    print()"
   ]
  },
  {
   "cell_type": "markdown",
   "id": "388644f1",
   "metadata": {},
   "source": [
    "# Number Pattern 2\n"
   ]
  },
  {
   "cell_type": "code",
   "execution_count": 2,
   "id": "e0ac33ea",
   "metadata": {},
   "outputs": [
    {
     "name": "stdout",
     "output_type": "stream",
     "text": [
      "5\n",
      "1\n",
      "11\n",
      "202\n",
      "3003\n",
      "40004\n"
     ]
    }
   ],
   "source": [
    "n=int(input())\n",
    "for i in range(1,n+1):\n",
    "    for j in range(1,i+1):\n",
    "        if i==1:\n",
    "            print(1,end=\"\")\n",
    "        elif j==1 or j==i:\n",
    "            print(i-1,end='')\n",
    "        else:\n",
    "            print(0,end='')\n",
    "    print()"
   ]
  },
  {
   "cell_type": "markdown",
   "id": "32fceb23",
   "metadata": {},
   "source": [
    "# Number Pattern 3"
   ]
  },
  {
   "cell_type": "code",
   "execution_count": 3,
   "id": "60786239",
   "metadata": {},
   "outputs": [
    {
     "name": "stdout",
     "output_type": "stream",
     "text": [
      "5\n",
      "1\n",
      "11\n",
      "121\n",
      "1221\n",
      "12221\n"
     ]
    }
   ],
   "source": [
    "n=int(input())\n",
    "for i in range(1,n+1):\n",
    "    for j in range(1,i+1):\n",
    "        if j==1 or j==i:\n",
    "            print(1,end='')\n",
    "        else:\n",
    "            print(2,end='')\n",
    "    print()"
   ]
  },
  {
   "cell_type": "markdown",
   "id": "420659b7",
   "metadata": {},
   "source": [
    "# Number Pattern 4"
   ]
  },
  {
   "cell_type": "code",
   "execution_count": 4,
   "id": "aa3acc14",
   "metadata": {},
   "outputs": [
    {
     "name": "stdout",
     "output_type": "stream",
     "text": [
      "5\n",
      "12345\n",
      "1234\n",
      "123\n",
      "12\n",
      "1\n"
     ]
    }
   ],
   "source": [
    "n=int(input())\n",
    "for i in range(n,0,-1):\n",
    "    for j in range(1,i+1):\n",
    "        print(j,end=\"\")\n",
    "    print()"
   ]
  },
  {
   "cell_type": "markdown",
   "id": "019255b8",
   "metadata": {},
   "source": [
    "# Number Pattern 5"
   ]
  },
  {
   "cell_type": "code",
   "execution_count": 9,
   "id": "af103f6b",
   "metadata": {},
   "outputs": [
    {
     "name": "stdout",
     "output_type": "stream",
     "text": [
      "3\n",
      "A\n",
      "BB\n",
      "CCC\n"
     ]
    }
   ],
   "source": [
    "n=int(input())\n",
    "ch=65\n",
    "for i in range(n):\n",
    "    for j in range(i+1):\n",
    "        print(chr(ch+i),end=\"\")\n",
    "    print()"
   ]
  },
  {
   "cell_type": "code",
   "execution_count": null,
   "id": "dcbd2fa8",
   "metadata": {},
   "outputs": [],
   "source": []
  }
 ],
 "metadata": {
  "kernelspec": {
   "display_name": "Python 3 (ipykernel)",
   "language": "python",
   "name": "python3"
  },
  "language_info": {
   "codemirror_mode": {
    "name": "ipython",
    "version": 3
   },
   "file_extension": ".py",
   "mimetype": "text/x-python",
   "name": "python",
   "nbconvert_exporter": "python",
   "pygments_lexer": "ipython3",
   "version": "3.9.7"
  }
 },
 "nbformat": 4,
 "nbformat_minor": 5
}
