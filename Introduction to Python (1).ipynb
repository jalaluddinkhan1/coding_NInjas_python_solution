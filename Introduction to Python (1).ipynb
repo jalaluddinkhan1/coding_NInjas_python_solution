{
 "cells": [
  {
   "cell_type": "markdown",
   "id": "85d91d95",
   "metadata": {},
   "source": [
    "# Find average Marks\n",
    "\n",
    "#### Write a program to input marks of three tests of a student (all integers). Then calculate and print the average of all test marks."
   ]
  },
  {
   "cell_type": "code",
   "execution_count": 1,
   "id": "323a723f",
   "metadata": {},
   "outputs": [
    {
     "name": "stdout",
     "output_type": "stream",
     "text": [
      "10\n",
      "52\n",
      "5\n",
      "22.333333333333332\n"
     ]
    }
   ],
   "source": [
    "a=int(input())\n",
    "b=int(input())\n",
    "c=int(input())\n",
    "avg=(a+b+c)/3\n",
    "print(avg)"
   ]
  },
  {
   "cell_type": "markdown",
   "id": "94c52a2b",
   "metadata": {},
   "source": [
    "# Find X raised to power N"
   ]
  },
  {
   "cell_type": "code",
   "execution_count": 2,
   "id": "0a272270",
   "metadata": {},
   "outputs": [
    {
     "name": "stdout",
     "output_type": "stream",
     "text": [
      "5\n",
      "5\n",
      "3125\n"
     ]
    }
   ],
   "source": [
    "x=int(input())\n",
    "n=int(input())\n",
    "print(x**n)"
   ]
  },
  {
   "cell_type": "markdown",
   "id": "00a52601",
   "metadata": {},
   "source": [
    "# Arithmetic Progression"
   ]
  },
  {
   "cell_type": "code",
   "execution_count": 3,
   "id": "d92b444f",
   "metadata": {},
   "outputs": [
    {
     "name": "stdout",
     "output_type": "stream",
     "text": [
      "2\n",
      "5\n",
      "6\n",
      "3\n"
     ]
    }
   ],
   "source": [
    "a=int(input())\n",
    "b=int(input())\n",
    "c=int(input())\n",
    "ad=b-a\n",
    "print(ad)"
   ]
  },
  {
   "cell_type": "markdown",
   "id": "4e2fa74c",
   "metadata": {},
   "source": [
    "# Rectangular Area\n",
    "##### You are given a rectangle in a plane. The coordinates of one of its diagonals are provided to you. You have to print the total area of the rectangle.\n",
    "##### The coordinates of the rectangle are provided as four integral values: x1, y1, x2, y2. It is given that x1 < x2 and y1 < y2."
   ]
  },
  {
   "cell_type": "code",
   "execution_count": 8,
   "id": "e2063369",
   "metadata": {},
   "outputs": [
    {
     "name": "stdout",
     "output_type": "stream",
     "text": [
      "445\n",
      "86\n",
      "99\n",
      "4\n",
      "area=  28372\n"
     ]
    }
   ],
   "source": [
    "x1=int(input())\n",
    "y1=int(input())\n",
    "x2=int(input())\n",
    "y2=int(input())\n",
    "area=(x2-x1)*(y2-y1)\n",
    "print(\"area= \",area)"
   ]
  },
  {
   "cell_type": "code",
   "execution_count": null,
   "id": "7119888b",
   "metadata": {},
   "outputs": [],
   "source": []
  }
 ],
 "metadata": {
  "kernelspec": {
   "display_name": "Python 3 (ipykernel)",
   "language": "python",
   "name": "python3"
  },
  "language_info": {
   "codemirror_mode": {
    "name": "ipython",
    "version": 3
   },
   "file_extension": ".py",
   "mimetype": "text/x-python",
   "name": "python",
   "nbconvert_exporter": "python",
   "pygments_lexer": "ipython3",
   "version": "3.9.7"
  }
 },
 "nbformat": 4,
 "nbformat_minor": 5
}
